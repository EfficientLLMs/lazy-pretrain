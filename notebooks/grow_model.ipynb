{
 "cells": [
  {
   "cell_type": "markdown",
   "metadata": {},
   "source": [
    "# Grow 70M Pythia to 410M Pythia\n",
    "\n",
    "Model size table:\n",
    "\n",
    "| Params | n_layers\t| d_model |\tn_heads | d_head | Hugging Face Checkpoints |\n",
    "| ------ | -------- | ------- | ------- | ------ | ------------------------ |\n",
    "|   70M  |    6     |   512   |    8    |   64   | [Standard](https://huggingface.co/EleutherAI/pythia-70m) |\n",
    "|  410M  |    24    |  1024   |    16   |   64   | [Standard](https://huggingface.co/EleutherAI/pythia-410m) |\n",
    "\n",
    "\n",
    "Based on the code in https://github.com/allenai/staged-training/blob/main/gpt_pretrain.py.\n"
   ]
  },
  {
   "cell_type": "markdown",
   "metadata": {},
   "source": [
    "## Instantiate Pythia 70M"
   ]
  },
  {
   "cell_type": "code",
   "execution_count": 1,
   "metadata": {
    "ExecuteTime": {
     "end_time": "2024-03-12T14:53:14.256796Z",
     "start_time": "2024-03-12T14:53:14.242622Z"
    }
   },
   "outputs": [],
   "source": [
    "from transformers import GPTNeoXForCausalLM, AutoTokenizer\n",
    "import torch\n",
    "import re\n",
    "import copy\n",
    "import json\n",
    "import importlib\n",
    "import sys"
   ]
  },
  {
   "cell_type": "code",
   "execution_count": 7,
   "metadata": {},
   "outputs": [],
   "source": [
    "sys.path.append('..')\n",
    "sys.path.append('../src')"
   ]
  },
  {
   "cell_type": "code",
   "execution_count": 4,
   "metadata": {
    "ExecuteTime": {
     "end_time": "2024-03-12T14:51:11.367435Z",
     "start_time": "2024-03-12T14:51:11.361609Z"
    }
   },
   "outputs": [
    {
     "data": {
      "application/vnd.jupyter.widget-view+json": {
       "model_id": "1528b90eb65141c6914103df134f39d1",
       "version_major": 2,
       "version_minor": 0
      },
      "text/plain": [
       "Downloading model.safetensors:   0%|          | 0.00/166M [00:00<?, ?B/s]"
      ]
     },
     "metadata": {},
     "output_type": "display_data"
    },
    {
     "data": {
      "application/vnd.jupyter.widget-view+json": {
       "model_id": "610b21e85fda43f8853ca8bffc005111",
       "version_major": 2,
       "version_minor": 0
      },
      "text/plain": [
       "Downloading tokenizer_config.json:   0%|          | 0.00/396 [00:00<?, ?B/s]"
      ]
     },
     "metadata": {},
     "output_type": "display_data"
    },
    {
     "data": {
      "application/vnd.jupyter.widget-view+json": {
       "model_id": "1badee075e9443f8a58f65785c379c6e",
       "version_major": 2,
       "version_minor": 0
      },
      "text/plain": [
       "Downloading tokenizer.json:   0%|          | 0.00/2.11M [00:00<?, ?B/s]"
      ]
     },
     "metadata": {},
     "output_type": "display_data"
    },
    {
     "data": {
      "application/vnd.jupyter.widget-view+json": {
       "model_id": "34b92a7237ab4a66b62c8f0261457c9f",
       "version_major": 2,
       "version_minor": 0
      },
      "text/plain": [
       "Downloading (…)cial_tokens_map.json:   0%|          | 0.00/99.0 [00:00<?, ?B/s]"
      ]
     },
     "metadata": {},
     "output_type": "display_data"
    },
    {
     "name": "stderr",
     "output_type": "stream",
     "text": [
      "Setting `pad_token_id` to `eos_token_id`:0 for open-end generation.\n",
      "/Users/vibhamasti/anaconda3/envs/idlf23/lib/python3.8/site-packages/transformers/generation/utils.py:1273: UserWarning: Using the model-agnostic default `max_length` (=20) to control the generation length. We recommend setting `max_new_tokens` to control the maximum length of the generation.\n",
      "  warnings.warn(\n"
     ]
    },
    {
     "data": {
      "text/plain": [
       "'Finish the following sentence:\\nRaindrops on roses\\n\\nI have a question for you.'"
      ]
     },
     "execution_count": 4,
     "metadata": {},
     "output_type": "execute_result"
    }
   ],
   "source": [
    "model_70m = GPTNeoXForCausalLM.from_pretrained(\n",
    "  \"EleutherAI/pythia-70m\",\n",
    "  cache_dir=\"../.cache/pythia-70m\",\n",
    ")\n",
    "\n",
    "tokenizer_70m = AutoTokenizer.from_pretrained(\n",
    "  \"EleutherAI/pythia-70m\",\n",
    "  cache_dir=\"../.cache/pythia-70m\",\n",
    ")\n",
    "\n",
    "inputs = tokenizer_70m(\"Finish the following sentence:\\nRaindrops on roses\", return_tensors=\"pt\")\n",
    "tokens = model_70m.generate(**inputs)\n",
    "tokenizer_70m.decode(tokens[0])"
   ]
  },
  {
   "cell_type": "markdown",
   "metadata": {},
   "source": [
    "## Use function preserving to grow the model to 410M"
   ]
  },
  {
   "cell_type": "code",
   "execution_count": 11,
   "metadata": {},
   "outputs": [],
   "source": [
    "import importlib"
   ]
  },
  {
   "cell_type": "code",
   "execution_count": 12,
   "metadata": {},
   "outputs": [
    {
     "data": {
      "text/plain": [
       "<module 'grow_depth' from '/Users/vibhamasti/Personal/CMU/F24/Capstone/lazy-pretrain/notebooks/../src/grow_depth.py'>"
      ]
     },
     "execution_count": 12,
     "metadata": {},
     "output_type": "execute_result"
    }
   ],
   "source": [
    "importlib.reload(grow_depth)"
   ]
  },
  {
   "cell_type": "code",
   "execution_count": 8,
   "metadata": {},
   "outputs": [],
   "source": [
    "import grow_depth\n",
    "import grow_width_hyper"
   ]
  },
  {
   "cell_type": "code",
   "execution_count": 7,
   "metadata": {},
   "outputs": [
    {
     "data": {
      "text/plain": [
       "<module 'grow_depth' from '/Users/vibhamasti/Personal/CMU/S24/Capstone/code/LoRA-Instruction-Finetune/src/grow_depth.py'>"
      ]
     },
     "execution_count": 7,
     "metadata": {},
     "output_type": "execute_result"
    }
   ],
   "source": [
    "importlib.reload(grow_depth)"
   ]
  },
  {
   "cell_type": "markdown",
   "metadata": {},
   "source": [
    "### Output of pre-trained 410M model"
   ]
  },
  {
   "cell_type": "code",
   "execution_count": 9,
   "metadata": {},
   "outputs": [
    {
     "data": {
      "application/vnd.jupyter.widget-view+json": {
       "model_id": "0b66e50f8afb40b3be2873f962c28551",
       "version_major": 2,
       "version_minor": 0
      },
      "text/plain": [
       "Downloading config.json:   0%|          | 0.00/570 [00:00<?, ?B/s]"
      ]
     },
     "metadata": {},
     "output_type": "display_data"
    },
    {
     "data": {
      "application/vnd.jupyter.widget-view+json": {
       "model_id": "ce1fe0e6aecf48638cfc320ec584fb1b",
       "version_major": 2,
       "version_minor": 0
      },
      "text/plain": [
       "Downloading model.safetensors:   0%|          | 0.00/911M [00:00<?, ?B/s]"
      ]
     },
     "metadata": {},
     "output_type": "display_data"
    },
    {
     "data": {
      "application/vnd.jupyter.widget-view+json": {
       "model_id": "069940ec80c949b48b0c5985d052f96c",
       "version_major": 2,
       "version_minor": 0
      },
      "text/plain": [
       "Downloading tokenizer_config.json:   0%|          | 0.00/396 [00:00<?, ?B/s]"
      ]
     },
     "metadata": {},
     "output_type": "display_data"
    },
    {
     "data": {
      "application/vnd.jupyter.widget-view+json": {
       "model_id": "a31158b6e8dc43fc85a1f9ff07328d28",
       "version_major": 2,
       "version_minor": 0
      },
      "text/plain": [
       "Downloading tokenizer.json:   0%|          | 0.00/2.11M [00:00<?, ?B/s]"
      ]
     },
     "metadata": {},
     "output_type": "display_data"
    },
    {
     "data": {
      "application/vnd.jupyter.widget-view+json": {
       "model_id": "ceeced5905a548448f570894c78bda50",
       "version_major": 2,
       "version_minor": 0
      },
      "text/plain": [
       "Downloading (…)cial_tokens_map.json:   0%|          | 0.00/99.0 [00:00<?, ?B/s]"
      ]
     },
     "metadata": {},
     "output_type": "display_data"
    },
    {
     "name": "stderr",
     "output_type": "stream",
     "text": [
      "Setting `pad_token_id` to `eos_token_id`:0 for open-end generation.\n",
      "/Users/vibhamasti/anaconda3/envs/idlf23/lib/python3.8/site-packages/transformers/generation/utils.py:1273: UserWarning: Using the model-agnostic default `max_length` (=20) to control the generation length. We recommend setting `max_new_tokens` to control the maximum length of the generation.\n",
      "  warnings.warn(\n"
     ]
    },
    {
     "data": {
      "text/plain": [
       "'Finish the following sentence:\\nRaindrops on roses,\\n\\nA:\\n\\nI think'"
      ]
     },
     "execution_count": 9,
     "metadata": {},
     "output_type": "execute_result"
    }
   ],
   "source": [
    "model_410m = GPTNeoXForCausalLM.from_pretrained(\n",
    "  \"EleutherAI/pythia-410m\",\n",
    "  cache_dir=\"../.cache/pythia-410m\",\n",
    ")\n",
    "\n",
    "tokenizer_410m = AutoTokenizer.from_pretrained(\n",
    "  \"EleutherAI/pythia-410m\",\n",
    "  cache_dir=\"../.cache/pythia-410m\",\n",
    ")\n",
    "\n",
    "inputs = tokenizer_410m(\"Finish the following sentence:\\nRaindrops on roses\", return_tensors=\"pt\")\n",
    "tokens = model_410m.generate(**inputs)\n",
    "tokenizer_410m.decode(tokens[0])"
   ]
  },
  {
   "cell_type": "code",
   "execution_count": 13,
   "metadata": {},
   "outputs": [],
   "source": [
    "model_70m_deep, copied_layers = grow_depth.expand_layers(model_70m, 6, 12, expand_type='alternate')\n",
    "model_70m_deep, copied_layers = grow_depth.expand_layers(model_70m_deep, 12, 24, expand_type='alternate', copied_layers=copied_layers)"
   ]
  },
  {
   "cell_type": "code",
   "execution_count": 14,
   "metadata": {},
   "outputs": [
    {
     "data": {
      "text/plain": [
       "[True,\n",
       " True,\n",
       " True,\n",
       " False,\n",
       " True,\n",
       " True,\n",
       " True,\n",
       " False,\n",
       " True,\n",
       " True,\n",
       " True,\n",
       " False,\n",
       " True,\n",
       " True,\n",
       " True,\n",
       " False,\n",
       " True,\n",
       " True,\n",
       " True,\n",
       " False,\n",
       " True,\n",
       " True,\n",
       " True,\n",
       " False]"
      ]
     },
     "execution_count": 14,
     "metadata": {},
     "output_type": "execute_result"
    }
   ],
   "source": [
    "copied_layers"
   ]
  },
  {
   "cell_type": "code",
   "execution_count": 20,
   "metadata": {},
   "outputs": [
    {
     "name": "stdout",
     "output_type": "stream",
     "text": [
      "Param input_layernorm.weight requires grad: True\n",
      "Param input_layernorm.bias requires grad: True\n",
      "Param post_attention_layernorm.weight requires grad: True\n",
      "Param post_attention_layernorm.bias requires grad: True\n",
      "Param attention.query_key_value.weight requires grad: True\n",
      "Param attention.query_key_value.bias requires grad: True\n",
      "Param attention.dense.weight requires grad: True\n",
      "Param attention.dense.bias requires grad: True\n",
      "Param mlp.dense_h_to_4h.weight requires grad: True\n",
      "Param mlp.dense_h_to_4h.bias requires grad: True\n",
      "Param mlp.dense_4h_to_h.weight requires grad: True\n",
      "Param mlp.dense_4h_to_h.bias requires grad: True\n",
      "Param input_layernorm.weight requires grad: True\n",
      "Param input_layernorm.bias requires grad: True\n",
      "Param post_attention_layernorm.weight requires grad: True\n",
      "Param post_attention_layernorm.bias requires grad: True\n",
      "Param attention.query_key_value.weight requires grad: True\n",
      "Param attention.query_key_value.bias requires grad: True\n",
      "Param attention.dense.weight requires grad: True\n",
      "Param attention.dense.bias requires grad: True\n",
      "Param mlp.dense_h_to_4h.weight requires grad: True\n",
      "Param mlp.dense_h_to_4h.bias requires grad: True\n",
      "Param mlp.dense_4h_to_h.weight requires grad: True\n",
      "Param mlp.dense_4h_to_h.bias requires grad: True\n",
      "Param input_layernorm.weight requires grad: True\n",
      "Param input_layernorm.bias requires grad: True\n",
      "Param post_attention_layernorm.weight requires grad: True\n",
      "Param post_attention_layernorm.bias requires grad: True\n",
      "Param attention.query_key_value.weight requires grad: True\n",
      "Param attention.query_key_value.bias requires grad: True\n",
      "Param attention.dense.weight requires grad: True\n",
      "Param attention.dense.bias requires grad: True\n",
      "Param mlp.dense_h_to_4h.weight requires grad: True\n",
      "Param mlp.dense_h_to_4h.bias requires grad: True\n",
      "Param mlp.dense_4h_to_h.weight requires grad: True\n",
      "Param mlp.dense_4h_to_h.bias requires grad: True\n",
      "Param input_layernorm.weight requires grad: False\n",
      "Param input_layernorm.bias requires grad: False\n",
      "Param post_attention_layernorm.weight requires grad: False\n",
      "Param post_attention_layernorm.bias requires grad: False\n",
      "Param attention.query_key_value.weight requires grad: False\n",
      "Param attention.query_key_value.bias requires grad: False\n",
      "Param attention.dense.weight requires grad: False\n",
      "Param attention.dense.bias requires grad: False\n",
      "Param mlp.dense_h_to_4h.weight requires grad: False\n",
      "Param mlp.dense_h_to_4h.bias requires grad: False\n",
      "Param mlp.dense_4h_to_h.weight requires grad: False\n",
      "Param mlp.dense_4h_to_h.bias requires grad: False\n",
      "Param input_layernorm.weight requires grad: True\n",
      "Param input_layernorm.bias requires grad: True\n",
      "Param post_attention_layernorm.weight requires grad: True\n",
      "Param post_attention_layernorm.bias requires grad: True\n",
      "Param attention.query_key_value.weight requires grad: True\n",
      "Param attention.query_key_value.bias requires grad: True\n",
      "Param attention.dense.weight requires grad: True\n",
      "Param attention.dense.bias requires grad: True\n",
      "Param mlp.dense_h_to_4h.weight requires grad: True\n",
      "Param mlp.dense_h_to_4h.bias requires grad: True\n",
      "Param mlp.dense_4h_to_h.weight requires grad: True\n",
      "Param mlp.dense_4h_to_h.bias requires grad: True\n",
      "Param input_layernorm.weight requires grad: True\n",
      "Param input_layernorm.bias requires grad: True\n",
      "Param post_attention_layernorm.weight requires grad: True\n",
      "Param post_attention_layernorm.bias requires grad: True\n",
      "Param attention.query_key_value.weight requires grad: True\n",
      "Param attention.query_key_value.bias requires grad: True\n",
      "Param attention.dense.weight requires grad: True\n",
      "Param attention.dense.bias requires grad: True\n",
      "Param mlp.dense_h_to_4h.weight requires grad: True\n",
      "Param mlp.dense_h_to_4h.bias requires grad: True\n",
      "Param mlp.dense_4h_to_h.weight requires grad: True\n",
      "Param mlp.dense_4h_to_h.bias requires grad: True\n",
      "Param input_layernorm.weight requires grad: True\n",
      "Param input_layernorm.bias requires grad: True\n",
      "Param post_attention_layernorm.weight requires grad: True\n",
      "Param post_attention_layernorm.bias requires grad: True\n",
      "Param attention.query_key_value.weight requires grad: True\n",
      "Param attention.query_key_value.bias requires grad: True\n",
      "Param attention.dense.weight requires grad: True\n",
      "Param attention.dense.bias requires grad: True\n",
      "Param mlp.dense_h_to_4h.weight requires grad: True\n",
      "Param mlp.dense_h_to_4h.bias requires grad: True\n",
      "Param mlp.dense_4h_to_h.weight requires grad: True\n",
      "Param mlp.dense_4h_to_h.bias requires grad: True\n",
      "Param input_layernorm.weight requires grad: False\n",
      "Param input_layernorm.bias requires grad: False\n",
      "Param post_attention_layernorm.weight requires grad: False\n",
      "Param post_attention_layernorm.bias requires grad: False\n",
      "Param attention.query_key_value.weight requires grad: False\n",
      "Param attention.query_key_value.bias requires grad: False\n",
      "Param attention.dense.weight requires grad: False\n",
      "Param attention.dense.bias requires grad: False\n",
      "Param mlp.dense_h_to_4h.weight requires grad: False\n",
      "Param mlp.dense_h_to_4h.bias requires grad: False\n",
      "Param mlp.dense_4h_to_h.weight requires grad: False\n",
      "Param mlp.dense_4h_to_h.bias requires grad: False\n",
      "Param input_layernorm.weight requires grad: True\n",
      "Param input_layernorm.bias requires grad: True\n",
      "Param post_attention_layernorm.weight requires grad: True\n",
      "Param post_attention_layernorm.bias requires grad: True\n",
      "Param attention.query_key_value.weight requires grad: True\n",
      "Param attention.query_key_value.bias requires grad: True\n",
      "Param attention.dense.weight requires grad: True\n",
      "Param attention.dense.bias requires grad: True\n",
      "Param mlp.dense_h_to_4h.weight requires grad: True\n",
      "Param mlp.dense_h_to_4h.bias requires grad: True\n",
      "Param mlp.dense_4h_to_h.weight requires grad: True\n",
      "Param mlp.dense_4h_to_h.bias requires grad: True\n",
      "Param input_layernorm.weight requires grad: True\n",
      "Param input_layernorm.bias requires grad: True\n",
      "Param post_attention_layernorm.weight requires grad: True\n",
      "Param post_attention_layernorm.bias requires grad: True\n",
      "Param attention.query_key_value.weight requires grad: True\n",
      "Param attention.query_key_value.bias requires grad: True\n",
      "Param attention.dense.weight requires grad: True\n",
      "Param attention.dense.bias requires grad: True\n",
      "Param mlp.dense_h_to_4h.weight requires grad: True\n",
      "Param mlp.dense_h_to_4h.bias requires grad: True\n",
      "Param mlp.dense_4h_to_h.weight requires grad: True\n",
      "Param mlp.dense_4h_to_h.bias requires grad: True\n",
      "Param input_layernorm.weight requires grad: True\n",
      "Param input_layernorm.bias requires grad: True\n",
      "Param post_attention_layernorm.weight requires grad: True\n",
      "Param post_attention_layernorm.bias requires grad: True\n",
      "Param attention.query_key_value.weight requires grad: True\n",
      "Param attention.query_key_value.bias requires grad: True\n",
      "Param attention.dense.weight requires grad: True\n",
      "Param attention.dense.bias requires grad: True\n",
      "Param mlp.dense_h_to_4h.weight requires grad: True\n",
      "Param mlp.dense_h_to_4h.bias requires grad: True\n",
      "Param mlp.dense_4h_to_h.weight requires grad: True\n",
      "Param mlp.dense_4h_to_h.bias requires grad: True\n",
      "Param input_layernorm.weight requires grad: False\n",
      "Param input_layernorm.bias requires grad: False\n",
      "Param post_attention_layernorm.weight requires grad: False\n",
      "Param post_attention_layernorm.bias requires grad: False\n",
      "Param attention.query_key_value.weight requires grad: False\n",
      "Param attention.query_key_value.bias requires grad: False\n",
      "Param attention.dense.weight requires grad: False\n",
      "Param attention.dense.bias requires grad: False\n",
      "Param mlp.dense_h_to_4h.weight requires grad: False\n",
      "Param mlp.dense_h_to_4h.bias requires grad: False\n",
      "Param mlp.dense_4h_to_h.weight requires grad: False\n",
      "Param mlp.dense_4h_to_h.bias requires grad: False\n",
      "Param input_layernorm.weight requires grad: True\n",
      "Param input_layernorm.bias requires grad: True\n",
      "Param post_attention_layernorm.weight requires grad: True\n",
      "Param post_attention_layernorm.bias requires grad: True\n",
      "Param attention.query_key_value.weight requires grad: True\n",
      "Param attention.query_key_value.bias requires grad: True\n",
      "Param attention.dense.weight requires grad: True\n",
      "Param attention.dense.bias requires grad: True\n",
      "Param mlp.dense_h_to_4h.weight requires grad: True\n",
      "Param mlp.dense_h_to_4h.bias requires grad: True\n",
      "Param mlp.dense_4h_to_h.weight requires grad: True\n",
      "Param mlp.dense_4h_to_h.bias requires grad: True\n",
      "Param input_layernorm.weight requires grad: True\n",
      "Param input_layernorm.bias requires grad: True\n",
      "Param post_attention_layernorm.weight requires grad: True\n",
      "Param post_attention_layernorm.bias requires grad: True\n",
      "Param attention.query_key_value.weight requires grad: True\n",
      "Param attention.query_key_value.bias requires grad: True\n",
      "Param attention.dense.weight requires grad: True\n",
      "Param attention.dense.bias requires grad: True\n",
      "Param mlp.dense_h_to_4h.weight requires grad: True\n",
      "Param mlp.dense_h_to_4h.bias requires grad: True\n",
      "Param mlp.dense_4h_to_h.weight requires grad: True\n",
      "Param mlp.dense_4h_to_h.bias requires grad: True\n",
      "Param input_layernorm.weight requires grad: True\n",
      "Param input_layernorm.bias requires grad: True\n",
      "Param post_attention_layernorm.weight requires grad: True\n",
      "Param post_attention_layernorm.bias requires grad: True\n",
      "Param attention.query_key_value.weight requires grad: True\n",
      "Param attention.query_key_value.bias requires grad: True\n",
      "Param attention.dense.weight requires grad: True\n",
      "Param attention.dense.bias requires grad: True\n",
      "Param mlp.dense_h_to_4h.weight requires grad: True\n",
      "Param mlp.dense_h_to_4h.bias requires grad: True\n",
      "Param mlp.dense_4h_to_h.weight requires grad: True\n",
      "Param mlp.dense_4h_to_h.bias requires grad: True\n",
      "Param input_layernorm.weight requires grad: False\n",
      "Param input_layernorm.bias requires grad: False\n",
      "Param post_attention_layernorm.weight requires grad: False\n",
      "Param post_attention_layernorm.bias requires grad: False\n",
      "Param attention.query_key_value.weight requires grad: False\n",
      "Param attention.query_key_value.bias requires grad: False\n",
      "Param attention.dense.weight requires grad: False\n",
      "Param attention.dense.bias requires grad: False\n",
      "Param mlp.dense_h_to_4h.weight requires grad: False\n",
      "Param mlp.dense_h_to_4h.bias requires grad: False\n",
      "Param mlp.dense_4h_to_h.weight requires grad: False\n",
      "Param mlp.dense_4h_to_h.bias requires grad: False\n",
      "Param input_layernorm.weight requires grad: True\n",
      "Param input_layernorm.bias requires grad: True\n",
      "Param post_attention_layernorm.weight requires grad: True\n",
      "Param post_attention_layernorm.bias requires grad: True\n",
      "Param attention.query_key_value.weight requires grad: True\n",
      "Param attention.query_key_value.bias requires grad: True\n",
      "Param attention.dense.weight requires grad: True\n",
      "Param attention.dense.bias requires grad: True\n",
      "Param mlp.dense_h_to_4h.weight requires grad: True\n",
      "Param mlp.dense_h_to_4h.bias requires grad: True\n",
      "Param mlp.dense_4h_to_h.weight requires grad: True\n",
      "Param mlp.dense_4h_to_h.bias requires grad: True\n",
      "Param input_layernorm.weight requires grad: True\n",
      "Param input_layernorm.bias requires grad: True\n",
      "Param post_attention_layernorm.weight requires grad: True\n",
      "Param post_attention_layernorm.bias requires grad: True\n",
      "Param attention.query_key_value.weight requires grad: True\n",
      "Param attention.query_key_value.bias requires grad: True\n",
      "Param attention.dense.weight requires grad: True\n",
      "Param attention.dense.bias requires grad: True\n",
      "Param mlp.dense_h_to_4h.weight requires grad: True\n",
      "Param mlp.dense_h_to_4h.bias requires grad: True\n",
      "Param mlp.dense_4h_to_h.weight requires grad: True\n",
      "Param mlp.dense_4h_to_h.bias requires grad: True\n",
      "Param input_layernorm.weight requires grad: True\n",
      "Param input_layernorm.bias requires grad: True\n",
      "Param post_attention_layernorm.weight requires grad: True\n",
      "Param post_attention_layernorm.bias requires grad: True\n",
      "Param attention.query_key_value.weight requires grad: True\n",
      "Param attention.query_key_value.bias requires grad: True\n",
      "Param attention.dense.weight requires grad: True\n",
      "Param attention.dense.bias requires grad: True\n",
      "Param mlp.dense_h_to_4h.weight requires grad: True\n",
      "Param mlp.dense_h_to_4h.bias requires grad: True\n",
      "Param mlp.dense_4h_to_h.weight requires grad: True\n",
      "Param mlp.dense_4h_to_h.bias requires grad: True\n",
      "Param input_layernorm.weight requires grad: False\n",
      "Param input_layernorm.bias requires grad: False\n",
      "Param post_attention_layernorm.weight requires grad: False\n",
      "Param post_attention_layernorm.bias requires grad: False\n",
      "Param attention.query_key_value.weight requires grad: False\n",
      "Param attention.query_key_value.bias requires grad: False\n",
      "Param attention.dense.weight requires grad: False\n",
      "Param attention.dense.bias requires grad: False\n",
      "Param mlp.dense_h_to_4h.weight requires grad: False\n",
      "Param mlp.dense_h_to_4h.bias requires grad: False\n",
      "Param mlp.dense_4h_to_h.weight requires grad: False\n",
      "Param mlp.dense_4h_to_h.bias requires grad: False\n",
      "Param input_layernorm.weight requires grad: True\n",
      "Param input_layernorm.bias requires grad: True\n",
      "Param post_attention_layernorm.weight requires grad: True\n",
      "Param post_attention_layernorm.bias requires grad: True\n",
      "Param attention.query_key_value.weight requires grad: True\n",
      "Param attention.query_key_value.bias requires grad: True\n",
      "Param attention.dense.weight requires grad: True\n",
      "Param attention.dense.bias requires grad: True\n",
      "Param mlp.dense_h_to_4h.weight requires grad: True\n",
      "Param mlp.dense_h_to_4h.bias requires grad: True\n",
      "Param mlp.dense_4h_to_h.weight requires grad: True\n",
      "Param mlp.dense_4h_to_h.bias requires grad: True\n",
      "Param input_layernorm.weight requires grad: True\n",
      "Param input_layernorm.bias requires grad: True\n",
      "Param post_attention_layernorm.weight requires grad: True\n",
      "Param post_attention_layernorm.bias requires grad: True\n",
      "Param attention.query_key_value.weight requires grad: True\n",
      "Param attention.query_key_value.bias requires grad: True\n",
      "Param attention.dense.weight requires grad: True\n",
      "Param attention.dense.bias requires grad: True\n",
      "Param mlp.dense_h_to_4h.weight requires grad: True\n",
      "Param mlp.dense_h_to_4h.bias requires grad: True\n",
      "Param mlp.dense_4h_to_h.weight requires grad: True\n",
      "Param mlp.dense_4h_to_h.bias requires grad: True\n",
      "Param input_layernorm.weight requires grad: True\n",
      "Param input_layernorm.bias requires grad: True\n",
      "Param post_attention_layernorm.weight requires grad: True\n",
      "Param post_attention_layernorm.bias requires grad: True\n",
      "Param attention.query_key_value.weight requires grad: True\n",
      "Param attention.query_key_value.bias requires grad: True\n",
      "Param attention.dense.weight requires grad: True\n",
      "Param attention.dense.bias requires grad: True\n",
      "Param mlp.dense_h_to_4h.weight requires grad: True\n",
      "Param mlp.dense_h_to_4h.bias requires grad: True\n",
      "Param mlp.dense_4h_to_h.weight requires grad: True\n",
      "Param mlp.dense_4h_to_h.bias requires grad: True\n",
      "Param input_layernorm.weight requires grad: False\n",
      "Param input_layernorm.bias requires grad: False\n",
      "Param post_attention_layernorm.weight requires grad: False\n",
      "Param post_attention_layernorm.bias requires grad: False\n",
      "Param attention.query_key_value.weight requires grad: False\n",
      "Param attention.query_key_value.bias requires grad: False\n",
      "Param attention.dense.weight requires grad: False\n",
      "Param attention.dense.bias requires grad: False\n",
      "Param mlp.dense_h_to_4h.weight requires grad: False\n",
      "Param mlp.dense_h_to_4h.bias requires grad: False\n",
      "Param mlp.dense_4h_to_h.weight requires grad: False\n",
      "Param mlp.dense_4h_to_h.bias requires grad: False\n"
     ]
    }
   ],
   "source": [
    "\n",
    "for i in range(len(copied_layers)):\n",
    "    if not copied_layers[i]:\n",
    "        parent_module = model_70m_deep.gpt_neox.layers[i]\n",
    "\n",
    "        # Freeze the weights of the parent module\n",
    "        for name, param in parent_module.named_parameters():\n",
    "            param.requires_grad = False\n",
    "            print(f'Param {name} requires grad: {param.requires_grad}')\n",
    "    else:\n",
    "        parent_module = model_70m_deep.gpt_neox.layers[i]\n",
    "\n",
    "        # Freeze the weights of the parent module\n",
    "        for name, param in parent_module.named_parameters():\n",
    "            param.requires_grad = True\n",
    "            print(f'Param {name} requires grad: {param.requires_grad}')\n",
    "        "
   ]
  },
  {
   "cell_type": "code",
   "execution_count": 7,
   "metadata": {},
   "outputs": [
    {
     "name": "stderr",
     "output_type": "stream",
     "text": [
      "Setting `pad_token_id` to `eos_token_id`:0 for open-end generation.\n"
     ]
    },
    {
     "data": {
      "text/plain": [
       "'Finish the following sentence:\\nRaindrops on roses\\n\\nI have a question for you.'"
      ]
     },
     "execution_count": 7,
     "metadata": {},
     "output_type": "execute_result"
    }
   ],
   "source": [
    "inputs = tokenizer_70m(\"Finish the following sentence:\\nRaindrops on roses\", return_tensors=\"pt\")\n",
    "tokens = model_70m_deep.generate(**inputs)\n",
    "tokenizer_70m.decode(tokens[0])"
   ]
  },
  {
   "cell_type": "code",
   "execution_count": 8,
   "metadata": {},
   "outputs": [],
   "source": [
    "model_70m_wide = grow_width.expand_width(model_70m_deep, 512, 1024)"
   ]
  },
  {
   "cell_type": "code",
   "execution_count": 9,
   "metadata": {},
   "outputs": [
    {
     "name": "stderr",
     "output_type": "stream",
     "text": [
      "Setting `pad_token_id` to `eos_token_id`:0 for open-end generation.\n"
     ]
    },
    {
     "data": {
      "text/plain": [
       "'Finish the following sentence:\\nRaindrops on roses\\n\\nI have a question for you about'"
      ]
     },
     "execution_count": 9,
     "metadata": {},
     "output_type": "execute_result"
    }
   ],
   "source": [
    "inputs = tokenizer_70m(\"Finish the following sentence:\\nRaindrops on roses\", return_tensors=\"pt\")\n",
    "tokens = model_70m_wide.generate(**inputs)\n",
    "tokenizer_70m.decode(tokens[0])"
   ]
  },
  {
   "cell_type": "code",
   "execution_count": 10,
   "metadata": {},
   "outputs": [
    {
     "data": {
      "text/plain": [
       "GPTNeoXForCausalLM(\n",
       "  (gpt_neox): GPTNeoXModel(\n",
       "    (embed_in): Embedding(50304, 1024)\n",
       "    (emb_dropout): Dropout(p=0.0, inplace=False)\n",
       "    (layers): ModuleList(\n",
       "      (0-23): 24 x GPTNeoXLayer(\n",
       "        (input_layernorm): LayerNorm((1024,), eps=1e-05, elementwise_affine=True)\n",
       "        (post_attention_layernorm): LayerNorm((1024,), eps=1e-05, elementwise_affine=True)\n",
       "        (post_attention_dropout): Dropout(p=0.0, inplace=False)\n",
       "        (post_mlp_dropout): Dropout(p=0.0, inplace=False)\n",
       "        (attention): GPTNeoXAttention(\n",
       "          (rotary_emb): GPTNeoXRotaryEmbedding()\n",
       "          (query_key_value): Linear(in_features=1024, out_features=3072, bias=True)\n",
       "          (dense): Linear(in_features=1024, out_features=1024, bias=True)\n",
       "          (attention_dropout): Dropout(p=0.0, inplace=False)\n",
       "        )\n",
       "        (mlp): GPTNeoXMLP(\n",
       "          (dense_h_to_4h): Linear(in_features=1024, out_features=4096, bias=True)\n",
       "          (dense_4h_to_h): Linear(in_features=4096, out_features=1024, bias=True)\n",
       "          (act): GELUActivation()\n",
       "        )\n",
       "      )\n",
       "    )\n",
       "    (final_layer_norm): LayerNorm((1024,), eps=1e-05, elementwise_affine=True)\n",
       "  )\n",
       "  (embed_out): Linear(in_features=1024, out_features=50304, bias=False)\n",
       ")"
      ]
     },
     "execution_count": 10,
     "metadata": {},
     "output_type": "execute_result"
    }
   ],
   "source": [
    "model_70m_wide"
   ]
  },
  {
   "cell_type": "code",
   "execution_count": 11,
   "metadata": {},
   "outputs": [
    {
     "data": {
      "text/plain": [
       "GPTNeoXConfig {\n",
       "  \"_name_or_path\": \"EleutherAI/pythia-70m-expand-width-1024\",\n",
       "  \"architectures\": [\n",
       "    \"GPTNeoXForCausalLM\"\n",
       "  ],\n",
       "  \"attention_bias\": true,\n",
       "  \"attention_dropout\": 0.0,\n",
       "  \"bos_token_id\": 0,\n",
       "  \"classifier_dropout\": 0.1,\n",
       "  \"eos_token_id\": 0,\n",
       "  \"hidden_act\": \"gelu\",\n",
       "  \"hidden_dropout\": 0.0,\n",
       "  \"hidden_size\": 1024,\n",
       "  \"initializer_range\": 0.02,\n",
       "  \"intermediate_size\": 4096,\n",
       "  \"layer_norm_eps\": 1e-05,\n",
       "  \"max_position_embeddings\": 2048,\n",
       "  \"model_type\": \"gpt_neox\",\n",
       "  \"num_attention_heads\": 16,\n",
       "  \"num_hidden_layers\": 24,\n",
       "  \"rope_scaling\": null,\n",
       "  \"rotary_emb_base\": 10000,\n",
       "  \"rotary_pct\": 0.25,\n",
       "  \"tie_word_embeddings\": false,\n",
       "  \"torch_dtype\": \"float16\",\n",
       "  \"transformers_version\": \"4.39.3\",\n",
       "  \"use_cache\": true,\n",
       "  \"use_parallel_residual\": true,\n",
       "  \"vocab_size\": 50304\n",
       "}"
      ]
     },
     "execution_count": 11,
     "metadata": {},
     "output_type": "execute_result"
    }
   ],
   "source": [
    "model_70m_wide.config"
   ]
  },
  {
   "cell_type": "code",
   "execution_count": 12,
   "metadata": {},
   "outputs": [
    {
     "data": {
      "text/plain": [
       "GPTNeoXForCausalLM(\n",
       "  (gpt_neox): GPTNeoXModel(\n",
       "    (embed_in): Embedding(50304, 1024)\n",
       "    (emb_dropout): Dropout(p=0.0, inplace=False)\n",
       "    (layers): ModuleList(\n",
       "      (0-23): 24 x GPTNeoXLayer(\n",
       "        (input_layernorm): LayerNorm((1024,), eps=1e-05, elementwise_affine=True)\n",
       "        (post_attention_layernorm): LayerNorm((1024,), eps=1e-05, elementwise_affine=True)\n",
       "        (post_attention_dropout): Dropout(p=0.0, inplace=False)\n",
       "        (post_mlp_dropout): Dropout(p=0.0, inplace=False)\n",
       "        (attention): GPTNeoXAttention(\n",
       "          (rotary_emb): GPTNeoXRotaryEmbedding()\n",
       "          (query_key_value): Linear(in_features=1024, out_features=3072, bias=True)\n",
       "          (dense): Linear(in_features=1024, out_features=1024, bias=True)\n",
       "          (attention_dropout): Dropout(p=0.0, inplace=False)\n",
       "        )\n",
       "        (mlp): GPTNeoXMLP(\n",
       "          (dense_h_to_4h): Linear(in_features=1024, out_features=4096, bias=True)\n",
       "          (dense_4h_to_h): Linear(in_features=4096, out_features=1024, bias=True)\n",
       "          (act): GELUActivation()\n",
       "        )\n",
       "      )\n",
       "    )\n",
       "    (final_layer_norm): LayerNorm((1024,), eps=1e-05, elementwise_affine=True)\n",
       "  )\n",
       "  (embed_out): Linear(in_features=1024, out_features=50304, bias=False)\n",
       ")"
      ]
     },
     "execution_count": 12,
     "metadata": {},
     "output_type": "execute_result"
    }
   ],
   "source": [
    "model_410m"
   ]
  },
  {
   "cell_type": "code",
   "execution_count": 13,
   "metadata": {},
   "outputs": [
    {
     "data": {
      "text/plain": [
       "GPTNeoXConfig {\n",
       "  \"_name_or_path\": \"EleutherAI/pythia-410m\",\n",
       "  \"architectures\": [\n",
       "    \"GPTNeoXForCausalLM\"\n",
       "  ],\n",
       "  \"attention_bias\": true,\n",
       "  \"attention_dropout\": 0.0,\n",
       "  \"bos_token_id\": 0,\n",
       "  \"classifier_dropout\": 0.1,\n",
       "  \"eos_token_id\": 0,\n",
       "  \"hidden_act\": \"gelu\",\n",
       "  \"hidden_dropout\": 0.0,\n",
       "  \"hidden_size\": 1024,\n",
       "  \"initializer_range\": 0.02,\n",
       "  \"intermediate_size\": 4096,\n",
       "  \"layer_norm_eps\": 1e-05,\n",
       "  \"max_position_embeddings\": 2048,\n",
       "  \"model_type\": \"gpt_neox\",\n",
       "  \"num_attention_heads\": 16,\n",
       "  \"num_hidden_layers\": 24,\n",
       "  \"rope_scaling\": null,\n",
       "  \"rotary_emb_base\": 10000,\n",
       "  \"rotary_pct\": 0.25,\n",
       "  \"tie_word_embeddings\": false,\n",
       "  \"torch_dtype\": \"float16\",\n",
       "  \"transformers_version\": \"4.39.3\",\n",
       "  \"use_cache\": true,\n",
       "  \"use_parallel_residual\": true,\n",
       "  \"vocab_size\": 50304\n",
       "}"
      ]
     },
     "execution_count": 13,
     "metadata": {},
     "output_type": "execute_result"
    }
   ],
   "source": [
    "model_410m.config"
   ]
  },
  {
   "cell_type": "markdown",
   "metadata": {},
   "source": [
    "## 410M to 1.4B"
   ]
  },
  {
   "cell_type": "code",
   "execution_count": 17,
   "metadata": {},
   "outputs": [],
   "source": [
    "model_1_4b = GPTNeoXForCausalLM.from_pretrained(\n",
    "  \"EleutherAI/pythia-1.4b\",\n",
    "  cache_dir=\"../.cache/pythia-1.4b\",\n",
    ")"
   ]
  },
  {
   "cell_type": "code",
   "execution_count": 18,
   "metadata": {},
   "outputs": [
    {
     "name": "stderr",
     "output_type": "stream",
     "text": [
      "Setting `pad_token_id` to `eos_token_id`:0 for open-end generation.\n"
     ]
    },
    {
     "data": {
      "text/plain": [
       "'Finish the following sentence:\\nRaindrops on roses,\\n\\nI love you.\\n\\n'"
      ]
     },
     "execution_count": 18,
     "metadata": {},
     "output_type": "execute_result"
    }
   ],
   "source": [
    "inputs = tokenizer_70m(\"Finish the following sentence:\\nRaindrops on roses\", return_tensors=\"pt\")\n",
    "tokens = model_1_4b.generate(**inputs)\n",
    "tokenizer_70m.decode(tokens[0])"
   ]
  },
  {
   "cell_type": "code",
   "execution_count": 19,
   "metadata": {},
   "outputs": [
    {
     "data": {
      "text/plain": [
       "<module 'grow_width' from '/Users/vibhamasti/Personal/CMU/S24/Capstone/code/LoRA-Instruction-Finetune/src/grow_width.py'>"
      ]
     },
     "execution_count": 19,
     "metadata": {},
     "output_type": "execute_result"
    }
   ],
   "source": [
    "importlib.reload(grow_width)"
   ]
  },
  {
   "cell_type": "code",
   "execution_count": 20,
   "metadata": {},
   "outputs": [],
   "source": [
    "model_410m_grown = grow_width.expand_width(model_410m, 1024, 2048, attn_heads=16)"
   ]
  },
  {
   "cell_type": "code",
   "execution_count": 21,
   "metadata": {},
   "outputs": [
    {
     "name": "stderr",
     "output_type": "stream",
     "text": [
      "Setting `pad_token_id` to `eos_token_id`:0 for open-end generation.\n"
     ]
    },
    {
     "data": {
      "text/plain": [
       "'Finish the following sentence:\\nRaindrops on roses,\\n\\nA:\\n\\nI think'"
      ]
     },
     "execution_count": 21,
     "metadata": {},
     "output_type": "execute_result"
    }
   ],
   "source": [
    "inputs = tokenizer_70m(\"Finish the following sentence:\\nRaindrops on roses\", return_tensors=\"pt\")\n",
    "tokens = model_410m_grown.generate(**inputs)\n",
    "tokenizer_70m.decode(tokens[0])"
   ]
  },
  {
   "cell_type": "code",
   "execution_count": 22,
   "metadata": {},
   "outputs": [
    {
     "data": {
      "text/plain": [
       "GPTNeoXConfig {\n",
       "  \"_name_or_path\": \"EleutherAI/pythia-410m-expand-width-2048\",\n",
       "  \"architectures\": [\n",
       "    \"GPTNeoXForCausalLM\"\n",
       "  ],\n",
       "  \"attention_bias\": true,\n",
       "  \"attention_dropout\": 0.0,\n",
       "  \"bos_token_id\": 0,\n",
       "  \"classifier_dropout\": 0.1,\n",
       "  \"eos_token_id\": 0,\n",
       "  \"hidden_act\": \"gelu\",\n",
       "  \"hidden_dropout\": 0.0,\n",
       "  \"hidden_size\": 2048,\n",
       "  \"initializer_range\": 0.02,\n",
       "  \"intermediate_size\": 8192,\n",
       "  \"layer_norm_eps\": 1e-05,\n",
       "  \"max_position_embeddings\": 2048,\n",
       "  \"model_type\": \"gpt_neox\",\n",
       "  \"num_attention_heads\": 16,\n",
       "  \"num_hidden_layers\": 24,\n",
       "  \"rope_scaling\": null,\n",
       "  \"rotary_emb_base\": 10000,\n",
       "  \"rotary_pct\": 0.25,\n",
       "  \"tie_word_embeddings\": false,\n",
       "  \"torch_dtype\": \"float16\",\n",
       "  \"transformers_version\": \"4.38.2\",\n",
       "  \"use_cache\": true,\n",
       "  \"use_parallel_residual\": true,\n",
       "  \"vocab_size\": 50304\n",
       "}"
      ]
     },
     "execution_count": 22,
     "metadata": {},
     "output_type": "execute_result"
    }
   ],
   "source": [
    "model_410m_grown.config"
   ]
  },
  {
   "cell_type": "code",
   "execution_count": 10,
   "metadata": {},
   "outputs": [],
   "source": [
    "# model_70m.embed_out"
   ]
  },
  {
   "cell_type": "markdown",
   "metadata": {},
   "source": []
  }
 ],
 "metadata": {
  "kernelspec": {
   "display_name": "idlf23",
   "language": "python",
   "name": "python3"
  },
  "language_info": {
   "codemirror_mode": {
    "name": "ipython",
    "version": 3
   },
   "file_extension": ".py",
   "mimetype": "text/x-python",
   "name": "python",
   "nbconvert_exporter": "python",
   "pygments_lexer": "ipython3",
   "version": "3.8.17"
  }
 },
 "nbformat": 4,
 "nbformat_minor": 2
}
